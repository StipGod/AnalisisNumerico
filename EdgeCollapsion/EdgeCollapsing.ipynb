{
 "cells": [
  {
   "cell_type": "code",
   "execution_count": 13,
   "metadata": {},
   "outputs": [],
   "source": [
    "from math import sqrt\n",
    "import numpy as np\n",
    "import trimesh as tm\n",
    "import random \n",
    "from operator import truediv\n",
    "from pickle import FALSE, TRUE\n",
    "from traceback import print_tb\n",
    "import trimesh as tm\n",
    "import numpy as np\n",
    "from collections import defaultdict, deque\n",
    "import itertools\n",
    "from render import render\n",
    "import pygame as pygame\n",
    "\n"
   ]
  },
  {
   "cell_type": "code",
   "execution_count": 14,
   "metadata": {},
   "outputs": [
    {
     "name": "stdout",
     "output_type": "stream",
     "text": [
      "697\n",
      "2027\n"
     ]
    }
   ],
   "source": [
    "\n",
    "\n",
    "mesh = tm.load(\"face_2.obj\", file_type='obj')\n",
    "#mesh = tm.load(\"lowlaurana.obj\", file_type='obj')\n",
    "#mesh = tm.load(\"bun_zipper.obj\", file_type='obj')\n",
    "E = mesh.edges_unique\n",
    "V = mesh.vertices \n",
    "\n",
    "print(len(V))\n",
    "print(len(E))\n",
    "\n",
    "\n",
    "def collapse(n):\n",
    "    for i in range(n):\n",
    "    #iteramos para saber cual es el error mas bajo para juntar los vertices n veces\n",
    "        lowErrorIndex = 0 \n",
    "        cont = 0\n",
    "        lowError = calculateLoss(E[0])\n",
    "        for e in E:\n",
    "            lowErrorAux = calculateLoss(e)\n",
    "            if(lowErrorAux<lowError): \n",
    "                lowError = lowErrorAux\n",
    "                lowErrorIndex = cont\n",
    "            cont +=1\n",
    "        deleteVertix(np.minimum(E[lowErrorIndex,0],E[lowErrorIndex,1]),np.maximum(E[lowErrorIndex,0],E[lowErrorIndex,1]))\n",
    "\n",
    "def calculateLoss(e):\n",
    "    x = V[e[0],0] - V[e[1],0]\n",
    "    y = V[e[0],1] - V[e[1],1]\n",
    "    z = V[e[0],2] - V[e[1],2]\n",
    "    return sqrt(pow(x,2)+pow(y,2)+pow(z,2))\n",
    "\n",
    "def deleteVertix(i,j):\n",
    "    # i tiene que ser menor que j\n",
    "    global V,E\n",
    "\n",
    "    V[i,0] = (V[i,0] + V[j,0])/2\n",
    "    V[i,1] = (V[i,1] + V[j,1])/2\n",
    "    V[i,2] = (V[i,2] + V[j,2])/2\n",
    "    \n",
    "    V = np.delete(V,j,0)\n",
    "\n",
    "    for e in range(len(E)):\n",
    "        if (E[e,0] == i and E[e,0] == j) or (E[e,0] == j and E[e,0] == i): \n",
    "            E = np.delete(E,e,0)\n",
    "            break\n",
    "    \n",
    "    deleted = 0\n",
    "    deletedEdges = []\n",
    "    nonDeletedEdges = []\n",
    "    for e in range(len(E)):\n",
    "        e -= deleted\n",
    "        if (E[e,0] == j or E[e,1] == j):\n",
    "            if E[e,0] > j: E[e,0] -= 1\n",
    "            if E[e,1] > j: E[e,1] -= 1\n",
    "            deletedEdges.append(E[e])\n",
    "            E = np.delete(E, e, 0)\n",
    "            deleted += 1\n",
    "        elif (E[e,0] == i or E[e,1] == i):\n",
    "            if E[e,0] > j: E[e,0] -= 1\n",
    "            if E[e,1] > j: E[e,1] -= 1\n",
    "            nonDeletedEdges.append(E[e])\n",
    "        else:\n",
    "            if E[e,0] > j: E[e,0] -= 1\n",
    "            if E[e,1] > j: E[e,1] -= 1\n",
    "    \n",
    "    for idxD in range(len(deletedEdges)):\n",
    "        dE = deletedEdges[idxD]\n",
    "        posD = 1\n",
    "        if dE[1] == j: posD = 0\n",
    "        same = FALSE\n",
    "        for idxN in range(len(nonDeletedEdges)):\n",
    "            nDE = nonDeletedEdges[idxN]\n",
    "            posN = 1\n",
    "            if nDE[1] == i: posN = 0\n",
    "            if dE[posD] == nDE[posN]:\n",
    "                same = TRUE\n",
    "                break\n",
    "        if same == FALSE and i != dE[posD]:\n",
    "            auxE = np.array([i,dE[posD]])\n",
    "            E = np.vstack([E,auxE])\n",
    "\n",
    "# def facetize(edges): gets edges, returns faces\n",
    "\n",
    "#     edge_lookup = defaultdict(set)\n",
    "        \n",
    "#     #lleno el dicionario\n",
    "#     for a, b in edges:\n",
    "#         edge_lookup[a] |= {b}\n",
    "#         edge_lookup[b] |= {a}\n",
    "        \n",
    "#     faces = np.matrix([[0,0,0]])\n",
    "#     for a in range(len(V)):\n",
    "#         for b in edge_lookup[a]:\n",
    "#             for c in edge_lookup[a]:\n",
    "#                 if b in edge_lookup[c]:\n",
    "#                     faces = np.vstack([faces,sorted([a, b, c])])\n",
    "#     return faces\n",
    "\n",
    "\n"
   ]
  },
  {
   "cell_type": "code",
   "execution_count": 15,
   "metadata": {},
   "outputs": [
    {
     "ename": "IndexError",
     "evalue": "index 2022 is out of bounds for axis 0 with size 2022",
     "output_type": "error",
     "traceback": [
      "\u001b[1;31m---------------------------------------------------------------------------\u001b[0m",
      "\u001b[1;31mIndexError\u001b[0m                                Traceback (most recent call last)",
      "\u001b[1;32md:\\Coding\\Analisis Numerico\\AnalisisNumerico-main\\EdgeCollapsion\\EdgeCollapsing.ipynb Cell 3'\u001b[0m in \u001b[0;36m<cell line: 1>\u001b[1;34m()\u001b[0m\n\u001b[1;32m----> <a href='vscode-notebook-cell:/d%3A/Coding/Analisis%20Numerico/AnalisisNumerico-main/EdgeCollapsion/EdgeCollapsing.ipynb#ch0000002?line=0'>1</a>\u001b[0m collapse(\u001b[39m100\u001b[39;49m)\n\u001b[0;32m      <a href='vscode-notebook-cell:/d%3A/Coding/Analisis%20Numerico/AnalisisNumerico-main/EdgeCollapsion/EdgeCollapsing.ipynb#ch0000002?line=1'>2</a>\u001b[0m \u001b[39mprint\u001b[39m(\u001b[39mlen\u001b[39m(V),\u001b[39mlen\u001b[39m(E))\n\u001b[0;32m      <a href='vscode-notebook-cell:/d%3A/Coding/Analisis%20Numerico/AnalisisNumerico-main/EdgeCollapsion/EdgeCollapsing.ipynb#ch0000002?line=2'>3</a>\u001b[0m collapse(\u001b[39m100\u001b[39m)\n",
      "\u001b[1;32md:\\Coding\\Analisis Numerico\\AnalisisNumerico-main\\EdgeCollapsion\\EdgeCollapsing.ipynb Cell 2'\u001b[0m in \u001b[0;36mcollapse\u001b[1;34m(n)\u001b[0m\n\u001b[0;32m     <a href='vscode-notebook-cell:/d%3A/Coding/Analisis%20Numerico/AnalisisNumerico-main/EdgeCollapsion/EdgeCollapsing.ipynb#ch0000001?line=19'>20</a>\u001b[0m         lowErrorIndex \u001b[39m=\u001b[39m cont\n\u001b[0;32m     <a href='vscode-notebook-cell:/d%3A/Coding/Analisis%20Numerico/AnalisisNumerico-main/EdgeCollapsion/EdgeCollapsing.ipynb#ch0000001?line=20'>21</a>\u001b[0m     cont \u001b[39m+\u001b[39m\u001b[39m=\u001b[39m\u001b[39m1\u001b[39m\n\u001b[1;32m---> <a href='vscode-notebook-cell:/d%3A/Coding/Analisis%20Numerico/AnalisisNumerico-main/EdgeCollapsion/EdgeCollapsing.ipynb#ch0000001?line=21'>22</a>\u001b[0m deleteVertix(np\u001b[39m.\u001b[39;49mminimum(E[lowErrorIndex,\u001b[39m0\u001b[39;49m],E[lowErrorIndex,\u001b[39m1\u001b[39;49m]),np\u001b[39m.\u001b[39;49mmaximum(E[lowErrorIndex,\u001b[39m0\u001b[39;49m],E[lowErrorIndex,\u001b[39m1\u001b[39;49m]))\n",
      "\u001b[1;32md:\\Coding\\Analisis Numerico\\AnalisisNumerico-main\\EdgeCollapsion\\EdgeCollapsing.ipynb Cell 2'\u001b[0m in \u001b[0;36mdeleteVertix\u001b[1;34m(i, j)\u001b[0m\n\u001b[0;32m     <a href='vscode-notebook-cell:/d%3A/Coding/Analisis%20Numerico/AnalisisNumerico-main/EdgeCollapsion/EdgeCollapsing.ipynb#ch0000001?line=41'>42</a>\u001b[0m nonDeletedEdges \u001b[39m=\u001b[39m []\n\u001b[0;32m     <a href='vscode-notebook-cell:/d%3A/Coding/Analisis%20Numerico/AnalisisNumerico-main/EdgeCollapsion/EdgeCollapsing.ipynb#ch0000001?line=42'>43</a>\u001b[0m \u001b[39mfor\u001b[39;00m e \u001b[39min\u001b[39;00m \u001b[39mrange\u001b[39m(\u001b[39mlen\u001b[39m(E)):\n\u001b[1;32m---> <a href='vscode-notebook-cell:/d%3A/Coding/Analisis%20Numerico/AnalisisNumerico-main/EdgeCollapsion/EdgeCollapsing.ipynb#ch0000001?line=43'>44</a>\u001b[0m     \u001b[39mif\u001b[39;00m (E[e,\u001b[39m0\u001b[39;49m] \u001b[39m==\u001b[39m i \u001b[39mand\u001b[39;00m E[e,\u001b[39m0\u001b[39m] \u001b[39m==\u001b[39m j) \u001b[39mor\u001b[39;00m (E[e,\u001b[39m0\u001b[39m] \u001b[39m==\u001b[39m j \u001b[39mand\u001b[39;00m E[e,\u001b[39m0\u001b[39m] \u001b[39m==\u001b[39m i): \n\u001b[0;32m     <a href='vscode-notebook-cell:/d%3A/Coding/Analisis%20Numerico/AnalisisNumerico-main/EdgeCollapsion/EdgeCollapsing.ipynb#ch0000001?line=44'>45</a>\u001b[0m         E \u001b[39m=\u001b[39m np\u001b[39m.\u001b[39mdelete(E,e,\u001b[39m0\u001b[39m)\n\u001b[0;32m     <a href='vscode-notebook-cell:/d%3A/Coding/Analisis%20Numerico/AnalisisNumerico-main/EdgeCollapsion/EdgeCollapsing.ipynb#ch0000001?line=45'>46</a>\u001b[0m         \u001b[39mbreak\u001b[39;00m\n",
      "\u001b[1;31mIndexError\u001b[0m: index 2022 is out of bounds for axis 0 with size 2022"
     ]
    }
   ],
   "source": [
    "collapse(100) #call collaps with the desired amount of vertex to reduce\n",
    "render(V,E)   #call render with V and E to render the image\n",
    "\n"
   ]
  }
 ],
 "metadata": {
  "interpreter": {
   "hash": "73ea8613782fcf584b05139d08646cfed7546af632781c079940d068db651ee8"
  },
  "kernelspec": {
   "display_name": "Python 3.9.6 64-bit",
   "language": "python",
   "name": "python3"
  },
  "language_info": {
   "codemirror_mode": {
    "name": "ipython",
    "version": 3
   },
   "file_extension": ".py",
   "mimetype": "text/x-python",
   "name": "python",
   "nbconvert_exporter": "python",
   "pygments_lexer": "ipython3",
   "version": "3.9.6"
  },
  "orig_nbformat": 4
 },
 "nbformat": 4,
 "nbformat_minor": 2
}
